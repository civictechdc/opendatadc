{
 "cells": [
  {
   "cell_type": "code",
   "execution_count": 1,
   "metadata": {},
   "outputs": [],
   "source": [
    "import pandas as pd"
   ]
  },
  {
   "cell_type": "markdown",
   "metadata": {},
   "source": [
    "We imported the General Election results from the [DC Board of Elections](https://electionresults.dcboe.org/election_results/2012-General-Election) for the years 2012-2018, inclusive. Earlier historic election results are available, but would require dealing with ANC boundary changes."
   ]
  },
  {
   "cell_type": "code",
   "execution_count": 2,
   "metadata": {},
   "outputs": [],
   "source": [
    "dc_2012 = pd.read_csv('Data/November_6_2012_General_and_Special_Election_Certified_Results.csv')\n",
    "dc_2014 = pd.read_csv('Data/November_4_2014_General_Election_Certified_Results.csv')\n",
    "dc_2016 = pd.read_csv('Data/November_8_2016_General_Election_Certified_Results.csv')\n",
    "dc_2018 = pd.read_csv('Data/November_6_2018_General_Election_Certified_Results.csv')"
   ]
  },
  {
   "cell_type": "markdown",
   "metadata": {},
   "source": [
    "2012-2016 had consistent headers. 2018 was renamed to be consistent."
   ]
  },
  {
   "cell_type": "code",
   "execution_count": 3,
   "metadata": {},
   "outputs": [],
   "source": [
    "# rename the 2018 dataframe headers\n",
    "dc_2018 = dc_2018.rename(columns = {'ElectionDate':'ELECTION_DATE',  'ElectionName': 'ELECTION_NAME', 'ContestNumber': 'CONTEST_ID',\n",
    "                'ContestName': 'CONTEST_NAME', 'PrecinctNumber': 'PRECINCT_NUMBER', 'WardNumber': 'WARD',\n",
    "                'Candidate': 'CANDIDATE', 'Party': 'PARTY', 'Votes': 'VOTES'}, index=str)"
   ]
  },
  {
   "cell_type": "code",
   "execution_count": 4,
   "metadata": {},
   "outputs": [
    {
     "data": {
      "text/plain": [
       "(9596, 9)"
      ]
     },
     "execution_count": 4,
     "metadata": {},
     "output_type": "execute_result"
    }
   ],
   "source": [
    "dc_2018.shape"
   ]
  },
  {
   "cell_type": "code",
   "execution_count": 5,
   "metadata": {},
   "outputs": [
    {
     "data": {
      "text/plain": [
       "(7130, 9)"
      ]
     },
     "execution_count": 5,
     "metadata": {},
     "output_type": "execute_result"
    }
   ],
   "source": [
    "dc_2012.shape"
   ]
  },
  {
   "cell_type": "code",
   "execution_count": 6,
   "metadata": {},
   "outputs": [
    {
     "data": {
      "text/plain": [
       "(13059, 9)"
      ]
     },
     "execution_count": 6,
     "metadata": {},
     "output_type": "execute_result"
    }
   ],
   "source": [
    "dc_2014.shape"
   ]
  },
  {
   "cell_type": "code",
   "execution_count": 7,
   "metadata": {},
   "outputs": [
    {
     "data": {
      "text/plain": [
       "(8724, 9)"
      ]
     },
     "execution_count": 7,
     "metadata": {},
     "output_type": "execute_result"
    }
   ],
   "source": [
    "dc_2016.shape"
   ]
  },
  {
   "cell_type": "code",
   "execution_count": 8,
   "metadata": {},
   "outputs": [
    {
     "data": {
      "text/plain": [
       "38509"
      ]
     },
     "execution_count": 8,
     "metadata": {},
     "output_type": "execute_result"
    }
   ],
   "source": [
    "dc_2012.shape[0] + dc_2014.shape[0] + dc_2016.shape[0] + dc_2018.shape[0]"
   ]
  },
  {
   "cell_type": "code",
   "execution_count": 9,
   "metadata": {},
   "outputs": [
    {
     "data": {
      "text/plain": [
       "28913"
      ]
     },
     "execution_count": 9,
     "metadata": {},
     "output_type": "execute_result"
    }
   ],
   "source": [
    "dc_2012.shape[0] + dc_2014.shape[0] + dc_2016.shape[0] "
   ]
  },
  {
   "cell_type": "code",
   "execution_count": 10,
   "metadata": {},
   "outputs": [],
   "source": [
    "dc_2016['CONTEST_NAME'] = dc_2016['CONTEST_NAME'].str.strip()\n",
    "dc_2016_obj = dc_2016.select_dtypes(['object'])\n",
    "dc_2016[dc_2016_obj.columns] = dc_2016_obj.apply(lambda x: x.str.strip())"
   ]
  },
  {
   "cell_type": "code",
   "execution_count": 11,
   "metadata": {},
   "outputs": [],
   "source": [
    "# initial merge\n",
    "dc_2012_2014 = pd.concat([dc_2012, dc_2014], sort=False, axis = 0)"
   ]
  },
  {
   "cell_type": "code",
   "execution_count": 12,
   "metadata": {},
   "outputs": [
    {
     "data": {
      "text/plain": [
       "(20189, 9)"
      ]
     },
     "execution_count": 12,
     "metadata": {},
     "output_type": "execute_result"
    }
   ],
   "source": [
    "dc_2012_2014.shape"
   ]
  },
  {
   "cell_type": "code",
   "execution_count": null,
   "metadata": {},
   "outputs": [],
   "source": []
  },
  {
   "cell_type": "markdown",
   "metadata": {},
   "source": [
    "2012-2016 and 2018 had slightly different formats for expressing CONTEST_NAME. We extracted the name of each ANC Single Member District from the CONTEST_NAME column and created a new column for the SMD."
   ]
  },
  {
   "cell_type": "code",
   "execution_count": 13,
   "metadata": {},
   "outputs": [],
   "source": [
    "# add the appropriate SMD column for the various years\n",
    "dc_2012_2014['SMD'] = dc_2012_2014.CONTEST_NAME.str[-4:]\n",
    "dc_2016['SMD'] = dc_2016.CONTEST_NAME.str[6:10]\n",
    "dc_2018['SMD'] = dc_2018.CONTEST_NAME.str[6:10]"
   ]
  },
  {
   "cell_type": "code",
   "execution_count": 14,
   "metadata": {},
   "outputs": [],
   "source": [
    "dc_2012_2018 = pd.concat([dc_2012_2014,dc_2016, dc_2018], sort=False, axis = 0)"
   ]
  },
  {
   "cell_type": "code",
   "execution_count": 15,
   "metadata": {},
   "outputs": [],
   "source": [
    "dc_2012_2018.shape\n",
    "dc_2012_2018_obj = dc_2012_2018.select_dtypes(['object'])\n",
    "dc_2012_2018[dc_2012_2018_obj.columns] = dc_2012_2018_obj.apply(lambda x: x.str.strip())"
   ]
  },
  {
   "cell_type": "code",
   "execution_count": 16,
   "metadata": {},
   "outputs": [
    {
     "data": {
      "text/plain": [
       "11/4/2014                13059\n",
       "11/6/2018 12:00:00 AM     9596\n",
       "11/8/2016                 8724\n",
       "11/6/2012                 7130\n",
       "Name: ELECTION_DATE, dtype: int64"
      ]
     },
     "execution_count": 16,
     "metadata": {},
     "output_type": "execute_result"
    }
   ],
   "source": [
    "dc_2012_2018.ELECTION_DATE.value_counts()"
   ]
  },
  {
   "cell_type": "code",
   "execution_count": 17,
   "metadata": {},
   "outputs": [],
   "source": [
    "# filter for just the results that include the name \"ANC\" or \"ADVISORY NEIGHBORHOOD COMMISSIONER\"\n",
    "anc_only =  dc_2012_2018[(dc_2012_2018['CONTEST_NAME'].str.contains(\"ANC\")) | (dc_2012_2018['CONTEST_NAME'].str.contains(\"ADVISORY NEIGHBORHOOD COMMISSIONER\")) ]"
   ]
  },
  {
   "cell_type": "code",
   "execution_count": 18,
   "metadata": {},
   "outputs": [
    {
     "name": "stderr",
     "output_type": "stream",
     "text": [
      "/usr/local/lib/python3.7/site-packages/pandas/core/generic.py:5096: SettingWithCopyWarning: \n",
      "A value is trying to be set on a copy of a slice from a DataFrame.\n",
      "Try using .loc[row_indexer,col_indexer] = value instead\n",
      "\n",
      "See the caveats in the documentation: http://pandas.pydata.org/pandas-docs/stable/indexing.html#indexing-view-versus-copy\n",
      "  self[name] = value\n"
     ]
    }
   ],
   "source": [
    "anc_only.ELECTION_DATE = anc_only.ELECTION_DATE.apply(pd.to_datetime)"
   ]
  },
  {
   "cell_type": "code",
   "execution_count": 19,
   "metadata": {},
   "outputs": [
    {
     "data": {
      "text/plain": [
       "(8521, 10)"
      ]
     },
     "execution_count": 19,
     "metadata": {},
     "output_type": "execute_result"
    }
   ],
   "source": [
    "anc_only.shape"
   ]
  },
  {
   "cell_type": "code",
   "execution_count": 20,
   "metadata": {},
   "outputs": [
    {
     "data": {
      "text/plain": [
       "ELECTION_DATE      datetime64[ns]\n",
       "ELECTION_NAME              object\n",
       "CONTEST_ID                  int64\n",
       "CONTEST_NAME               object\n",
       "PRECINCT_NUMBER             int64\n",
       "WARD                        int64\n",
       "CANDIDATE                  object\n",
       "PARTY                      object\n",
       "VOTES                       int64\n",
       "SMD                        object\n",
       "dtype: object"
      ]
     },
     "execution_count": 20,
     "metadata": {},
     "output_type": "execute_result"
    }
   ],
   "source": [
    "anc_only.dtypes"
   ]
  },
  {
   "cell_type": "code",
   "execution_count": null,
   "metadata": {},
   "outputs": [],
   "source": []
  },
  {
   "cell_type": "code",
   "execution_count": 21,
   "metadata": {},
   "outputs": [
    {
     "data": {
      "text/plain": [
       "ELECTION_DATE  SMD   CANDIDATE               \n",
       "2012-11-06     1A01  LISA KRALOVIC               374\n",
       "                     WRITE-IN                     24\n",
       "               1A02  ALEXANDER GALLO             295\n",
       "                     VICKEY A. WRIGHT-SMITH      432\n",
       "                     WRITE-IN                     11\n",
       "               1A03  STEVE SWANK                 406\n",
       "                     WRITE-IN                     36\n",
       "               1A04  LAINA AQUILINE              430\n",
       "                     SENTAMU KIREMERWA           120\n",
       "                     WRITE-IN                     18\n",
       "               1A05  KEVIN HOLMES                440\n",
       "                     WRITE-IN                     16\n",
       "               1A06  KEVIN E. CLINESMITH          87\n",
       "                     PATRICK W. FLYNN            411\n",
       "                     WILLIAM \"BILL\" BROWN JR.    218\n",
       "                     WRITE-IN                      9\n",
       "               1A07  THOMAS BOISVERT             633\n",
       "                     WRITE-IN                     44\n",
       "               1A08  KENT C. BOESE               852\n",
       "                     WRITE-IN                     14\n",
       "               1A09  BOBBY HOLMES                495\n",
       "                     WRITE-IN                     37\n",
       "               1A10  ANTHONY CIMINO              554\n",
       "                     LENWOOD \"LENNY\" JOHNSON     250\n",
       "                     WRITE-IN                      6\n",
       "               1A11  DOTTI LOVE WADE             429\n",
       "                     MIRIAM Z. SAVAD             205\n",
       "                     WRITE-IN                     16\n",
       "               1A12  ROSALIND M. GILLIAM         322\n",
       "                     WRITE-IN                     10\n",
       "                                                ... \n",
       "2018-11-06     8E01  Rufaro Jenkins               89\n",
       "                     UNDER VOTES                  29\n",
       "                     WRITE-IN                     34\n",
       "               8E02  Amanda Beale                128\n",
       "                     Anthony Muhammad            155\n",
       "                     Cheryl Moore                229\n",
       "                     OVER VOTES                    1\n",
       "                     UNDER VOTES                  31\n",
       "                     WRITE-IN                     11\n",
       "               8E03  Monica Watts                281\n",
       "                     OVER VOTES                    0\n",
       "                     UNDER VOTES                  57\n",
       "                     WRITE-IN                     26\n",
       "               8E04  Andre Towner                283\n",
       "                     Kendall Simmons             326\n",
       "                     OVER VOTES                    0\n",
       "                     UNDER VOTES                  44\n",
       "                     WRITE-IN                     26\n",
       "               8E05  Christopher L. Hawthorne    525\n",
       "                     OVER VOTES                    0\n",
       "                     UNDER VOTES                 126\n",
       "                     WRITE-IN                     41\n",
       "               8E06  Karlene (K.) Armstead       378\n",
       "                     OVER VOTES                    0\n",
       "                     UNDER VOTES                  99\n",
       "                     WRITE-IN                     17\n",
       "               8E07  OVER VOTES                    0\n",
       "                     Stephen A Slaughter         455\n",
       "                     UNDER VOTES                 102\n",
       "                     WRITE-IN                     40\n",
       "Name: VOTES, Length: 4573, dtype: int64"
      ]
     },
     "execution_count": 21,
     "metadata": {},
     "output_type": "execute_result"
    }
   ],
   "source": [
    "anc_only.groupby(['ELECTION_DATE', 'SMD', 'CANDIDATE']).VOTES.sum()"
   ]
  },
  {
   "cell_type": "code",
   "execution_count": 22,
   "metadata": {},
   "outputs": [
    {
     "data": {
      "text/plain": [
       "ELECTION_DATE  SMD   CANDIDATE               \n",
       "2012-11-06     8A01  HOLLY MUHAMMAD              935\n",
       "                     WRITE-IN                     36\n",
       "               8A02  BARBARA J. CLARK            799\n",
       "                     RANDI K. POWELL             200\n",
       "                     WRITE-IN                     47\n",
       "               8A03  L. YVONNE (L.Y.) MOORE      834\n",
       "                     WRITE-IN                     52\n",
       "               8A04  MOSES SMITH                 479\n",
       "                     WRITE-IN                     39\n",
       "               8A05  CHARLES E. WILSON           539\n",
       "                     JEREMY J. PHILLIPS          297\n",
       "                     WRITE-IN                     11\n",
       "               8A06  GRETA J. FULLER             352\n",
       "                     KENDALL J. GRAHAM           441\n",
       "                     STEPHEN COOKE               201\n",
       "                     WRITE-IN                     19\n",
       "               8A07  NATALIE WILLIAMS            806\n",
       "                     WRITE-IN                     28\n",
       "               8B01  KHADIJAH WATSON             741\n",
       "                     WRITE-IN                      8\n",
       "               8B02  WRITE-IN                     71\n",
       "               8B03  CHARLES H. WILSON           783\n",
       "                     WRITE-IN                     36\n",
       "               8B04  ANTHONY LORENZO             492\n",
       "                     JB SHOATZ                   209\n",
       "                     WRITE-IN                     12\n",
       "               8B05  BETTY SCIPPIO               465\n",
       "                     WRITE-IN                     15\n",
       "               8B06  MITCHELL G. HAWKINS III     490\n",
       "                     WRITE-IN                     15\n",
       "                                                ... \n",
       "2018-11-06     8E01  Rufaro Jenkins               89\n",
       "                     UNDER VOTES                  29\n",
       "                     WRITE-IN                     34\n",
       "               8E02  Amanda Beale                128\n",
       "                     Anthony Muhammad            155\n",
       "                     Cheryl Moore                229\n",
       "                     OVER VOTES                    1\n",
       "                     UNDER VOTES                  31\n",
       "                     WRITE-IN                     11\n",
       "               8E03  Monica Watts                281\n",
       "                     OVER VOTES                    0\n",
       "                     UNDER VOTES                  57\n",
       "                     WRITE-IN                     26\n",
       "               8E04  Andre Towner                283\n",
       "                     Kendall Simmons             326\n",
       "                     OVER VOTES                    0\n",
       "                     UNDER VOTES                  44\n",
       "                     WRITE-IN                     26\n",
       "               8E05  Christopher L. Hawthorne    525\n",
       "                     OVER VOTES                    0\n",
       "                     UNDER VOTES                 126\n",
       "                     WRITE-IN                     41\n",
       "               8E06  Karlene (K.) Armstead       378\n",
       "                     OVER VOTES                    0\n",
       "                     UNDER VOTES                  99\n",
       "                     WRITE-IN                     17\n",
       "               8E07  OVER VOTES                    0\n",
       "                     Stephen A Slaughter         455\n",
       "                     UNDER VOTES                 102\n",
       "                     WRITE-IN                     40\n",
       "Name: VOTES, Length: 530, dtype: int64"
      ]
     },
     "execution_count": 22,
     "metadata": {},
     "output_type": "execute_result"
    }
   ],
   "source": [
    "# verify ward 8 against current officeholders\n",
    "anc_only[anc_only.WARD==8].groupby(['ELECTION_DATE', 'SMD', 'CANDIDATE']).VOTES.sum()"
   ]
  },
  {
   "cell_type": "code",
   "execution_count": 23,
   "metadata": {},
   "outputs": [],
   "source": [
    "#with pd.option_context(\"max.rows\", 300):\n",
    "    #print(dc_2012_2018.CONTEST_NAME.value_counts())"
   ]
  },
  {
   "cell_type": "code",
   "execution_count": 24,
   "metadata": {},
   "outputs": [],
   "source": [
    "df = anc_only.groupby(['ELECTION_DATE', 'SMD', 'CANDIDATE']).VOTES.sum()"
   ]
  },
  {
   "cell_type": "code",
   "execution_count": 25,
   "metadata": {},
   "outputs": [],
   "source": [
    "df = df.reset_index()"
   ]
  },
  {
   "cell_type": "code",
   "execution_count": 26,
   "metadata": {},
   "outputs": [
    {
     "data": {
      "text/plain": [
       "2016-11-08    1305\n",
       "2014-11-04    1301\n",
       "2018-11-06    1286\n",
       "2012-11-06     681\n",
       "Name: ELECTION_DATE, dtype: int64"
      ]
     },
     "execution_count": 26,
     "metadata": {},
     "output_type": "execute_result"
    }
   ],
   "source": [
    "df.ELECTION_DATE.value_counts()"
   ]
  },
  {
   "cell_type": "code",
   "execution_count": 27,
   "metadata": {},
   "outputs": [
    {
     "data": {
      "text/plain": [
       "ELECTION_DATE  SMD \n",
       "2012-11-06     1A01    2\n",
       "               1A02    3\n",
       "               1A03    2\n",
       "               1A04    3\n",
       "               1A05    2\n",
       "               1A06    4\n",
       "               1A07    2\n",
       "               1A08    2\n",
       "               1A09    2\n",
       "               1A10    3\n",
       "               1A11    3\n",
       "               1A12    3\n",
       "               1B01    2\n",
       "               1B02    2\n",
       "               1B03    2\n",
       "               1B04    2\n",
       "               1B05    2\n",
       "               1B06    2\n",
       "               1B07    2\n",
       "               1B08    2\n",
       "               1B09    2\n",
       "               1B10    2\n",
       "               1B11    2\n",
       "               1B12    5\n",
       "               1C01    4\n",
       "               1C02    2\n",
       "               1C03    3\n",
       "               1C04    2\n",
       "               1C05    2\n",
       "               1C06    3\n",
       "                      ..\n",
       "2018-11-06     8A06    5\n",
       "               8A07    4\n",
       "               8B01    5\n",
       "               8B02    4\n",
       "               8B03    5\n",
       "               8B04    4\n",
       "               8B05    4\n",
       "               8B06    4\n",
       "               8B07    4\n",
       "               8C01    4\n",
       "               8C02    5\n",
       "               8C03    4\n",
       "               8C04    5\n",
       "               8C05    4\n",
       "               8C06    4\n",
       "               8C07    5\n",
       "               8D01    4\n",
       "               8D02    4\n",
       "               8D03    4\n",
       "               8D04    4\n",
       "               8D05    4\n",
       "               8D06    4\n",
       "               8D07    5\n",
       "               8E01    6\n",
       "               8E02    6\n",
       "               8E03    4\n",
       "               8E04    5\n",
       "               8E05    4\n",
       "               8E06    4\n",
       "               8E07    4\n",
       "Name: CANDIDATE, Length: 1184, dtype: int64"
      ]
     },
     "execution_count": 27,
     "metadata": {},
     "output_type": "execute_result"
    }
   ],
   "source": [
    "grouper = df.groupby(['ELECTION_DATE', 'SMD'])\n",
    "# Number of candidates in each SMD ANC race. Usually if there are 2 \"candidates\" in the race, the winner was unopposed as the other \"candidate\"\n",
    "# were the pile of write-ins.\n",
    "grouper.CANDIDATE.count()"
   ]
  },
  {
   "cell_type": "code",
   "execution_count": 28,
   "metadata": {},
   "outputs": [
    {
     "data": {
      "text/plain": [
       "6E02    23\n",
       "5E09    21\n",
       "8A06    21\n",
       "5E04    20\n",
       "5E07    19\n",
       "6E04    19\n",
       "5E03    19\n",
       "7C07    19\n",
       "6A06    19\n",
       "7F01    19\n",
       "6D05    19\n",
       "5E05    18\n",
       "7E04    18\n",
       "1B12    18\n",
       "3D05    18\n",
       "7D01    18\n",
       "4B07    18\n",
       "6D07    18\n",
       "5C04    18\n",
       "5B01    18\n",
       "5E06    18\n",
       "5C06    18\n",
       "6E01    18\n",
       "6B05    18\n",
       "5B04    18\n",
       "5D05    18\n",
       "5D06    18\n",
       "5C01    18\n",
       "4B01    18\n",
       "2B04    17\n",
       "        ..\n",
       "5A07    14\n",
       "3E03    14\n",
       "3B03    14\n",
       "4B03    14\n",
       "3C06    14\n",
       "8E06    14\n",
       "3D04    14\n",
       "2D01    14\n",
       "2A06    14\n",
       "1B11    14\n",
       "8D02    14\n",
       "6C04    14\n",
       "8D01    14\n",
       "4A06    14\n",
       "3D08    14\n",
       "3B04    14\n",
       "8D06    14\n",
       "1A03    14\n",
       "4A07    14\n",
       "7F06    13\n",
       "2A08    13\n",
       "3D06    13\n",
       "2E04    13\n",
       "7D02    13\n",
       "5A04    13\n",
       "7F07    13\n",
       "7B03    13\n",
       "3D07    13\n",
       "8E05    13\n",
       "8D05    13\n",
       "Name: SMD, Length: 296, dtype: int64"
      ]
     },
     "execution_count": 28,
     "metadata": {},
     "output_type": "execute_result"
    }
   ],
   "source": [
    "# there are 296 SMDs as per https://thedcline.org/2018/08/14/districts-296-anc-races-draw-as-many-as-five-candidates-but-two-thirds-are-uncontested/\n",
    "df.SMD.value_counts()"
   ]
  },
  {
   "cell_type": "code",
   "execution_count": 29,
   "metadata": {},
   "outputs": [
    {
     "data": {
      "text/html": [
       "<div>\n",
       "<style scoped>\n",
       "    .dataframe tbody tr th:only-of-type {\n",
       "        vertical-align: middle;\n",
       "    }\n",
       "\n",
       "    .dataframe tbody tr th {\n",
       "        vertical-align: top;\n",
       "    }\n",
       "\n",
       "    .dataframe thead th {\n",
       "        text-align: right;\n",
       "    }\n",
       "</style>\n",
       "<table border=\"1\" class=\"dataframe\">\n",
       "  <thead>\n",
       "    <tr style=\"text-align: right;\">\n",
       "      <th></th>\n",
       "      <th>ELECTION_DATE</th>\n",
       "      <th>SMD</th>\n",
       "      <th>CANDIDATE</th>\n",
       "      <th>VOTES</th>\n",
       "    </tr>\n",
       "  </thead>\n",
       "  <tbody>\n",
       "    <tr>\n",
       "      <th>0</th>\n",
       "      <td>2012-11-06</td>\n",
       "      <td>1A01</td>\n",
       "      <td>LISA KRALOVIC</td>\n",
       "      <td>374</td>\n",
       "    </tr>\n",
       "    <tr>\n",
       "      <th>1</th>\n",
       "      <td>2012-11-06</td>\n",
       "      <td>1A01</td>\n",
       "      <td>WRITE-IN</td>\n",
       "      <td>24</td>\n",
       "    </tr>\n",
       "    <tr>\n",
       "      <th>2</th>\n",
       "      <td>2012-11-06</td>\n",
       "      <td>1A02</td>\n",
       "      <td>ALEXANDER GALLO</td>\n",
       "      <td>295</td>\n",
       "    </tr>\n",
       "    <tr>\n",
       "      <th>3</th>\n",
       "      <td>2012-11-06</td>\n",
       "      <td>1A02</td>\n",
       "      <td>VICKEY A. WRIGHT-SMITH</td>\n",
       "      <td>432</td>\n",
       "    </tr>\n",
       "    <tr>\n",
       "      <th>4</th>\n",
       "      <td>2012-11-06</td>\n",
       "      <td>1A02</td>\n",
       "      <td>WRITE-IN</td>\n",
       "      <td>11</td>\n",
       "    </tr>\n",
       "    <tr>\n",
       "      <th>5</th>\n",
       "      <td>2012-11-06</td>\n",
       "      <td>1A03</td>\n",
       "      <td>STEVE SWANK</td>\n",
       "      <td>406</td>\n",
       "    </tr>\n",
       "    <tr>\n",
       "      <th>6</th>\n",
       "      <td>2012-11-06</td>\n",
       "      <td>1A03</td>\n",
       "      <td>WRITE-IN</td>\n",
       "      <td>36</td>\n",
       "    </tr>\n",
       "    <tr>\n",
       "      <th>7</th>\n",
       "      <td>2012-11-06</td>\n",
       "      <td>1A04</td>\n",
       "      <td>LAINA AQUILINE</td>\n",
       "      <td>430</td>\n",
       "    </tr>\n",
       "    <tr>\n",
       "      <th>8</th>\n",
       "      <td>2012-11-06</td>\n",
       "      <td>1A04</td>\n",
       "      <td>SENTAMU KIREMERWA</td>\n",
       "      <td>120</td>\n",
       "    </tr>\n",
       "    <tr>\n",
       "      <th>9</th>\n",
       "      <td>2012-11-06</td>\n",
       "      <td>1A04</td>\n",
       "      <td>WRITE-IN</td>\n",
       "      <td>18</td>\n",
       "    </tr>\n",
       "    <tr>\n",
       "      <th>10</th>\n",
       "      <td>2012-11-06</td>\n",
       "      <td>1A05</td>\n",
       "      <td>KEVIN HOLMES</td>\n",
       "      <td>440</td>\n",
       "    </tr>\n",
       "    <tr>\n",
       "      <th>11</th>\n",
       "      <td>2012-11-06</td>\n",
       "      <td>1A05</td>\n",
       "      <td>WRITE-IN</td>\n",
       "      <td>16</td>\n",
       "    </tr>\n",
       "    <tr>\n",
       "      <th>12</th>\n",
       "      <td>2012-11-06</td>\n",
       "      <td>1A06</td>\n",
       "      <td>KEVIN E. CLINESMITH</td>\n",
       "      <td>87</td>\n",
       "    </tr>\n",
       "    <tr>\n",
       "      <th>13</th>\n",
       "      <td>2012-11-06</td>\n",
       "      <td>1A06</td>\n",
       "      <td>PATRICK W. FLYNN</td>\n",
       "      <td>411</td>\n",
       "    </tr>\n",
       "    <tr>\n",
       "      <th>14</th>\n",
       "      <td>2012-11-06</td>\n",
       "      <td>1A06</td>\n",
       "      <td>WILLIAM \"BILL\" BROWN JR.</td>\n",
       "      <td>218</td>\n",
       "    </tr>\n",
       "    <tr>\n",
       "      <th>15</th>\n",
       "      <td>2012-11-06</td>\n",
       "      <td>1A06</td>\n",
       "      <td>WRITE-IN</td>\n",
       "      <td>9</td>\n",
       "    </tr>\n",
       "    <tr>\n",
       "      <th>16</th>\n",
       "      <td>2012-11-06</td>\n",
       "      <td>1A07</td>\n",
       "      <td>THOMAS BOISVERT</td>\n",
       "      <td>633</td>\n",
       "    </tr>\n",
       "    <tr>\n",
       "      <th>17</th>\n",
       "      <td>2012-11-06</td>\n",
       "      <td>1A07</td>\n",
       "      <td>WRITE-IN</td>\n",
       "      <td>44</td>\n",
       "    </tr>\n",
       "    <tr>\n",
       "      <th>18</th>\n",
       "      <td>2012-11-06</td>\n",
       "      <td>1A08</td>\n",
       "      <td>KENT C. BOESE</td>\n",
       "      <td>852</td>\n",
       "    </tr>\n",
       "    <tr>\n",
       "      <th>19</th>\n",
       "      <td>2012-11-06</td>\n",
       "      <td>1A08</td>\n",
       "      <td>WRITE-IN</td>\n",
       "      <td>14</td>\n",
       "    </tr>\n",
       "    <tr>\n",
       "      <th>20</th>\n",
       "      <td>2012-11-06</td>\n",
       "      <td>1A09</td>\n",
       "      <td>BOBBY HOLMES</td>\n",
       "      <td>495</td>\n",
       "    </tr>\n",
       "    <tr>\n",
       "      <th>21</th>\n",
       "      <td>2012-11-06</td>\n",
       "      <td>1A09</td>\n",
       "      <td>WRITE-IN</td>\n",
       "      <td>37</td>\n",
       "    </tr>\n",
       "    <tr>\n",
       "      <th>22</th>\n",
       "      <td>2012-11-06</td>\n",
       "      <td>1A10</td>\n",
       "      <td>ANTHONY CIMINO</td>\n",
       "      <td>554</td>\n",
       "    </tr>\n",
       "    <tr>\n",
       "      <th>23</th>\n",
       "      <td>2012-11-06</td>\n",
       "      <td>1A10</td>\n",
       "      <td>LENWOOD \"LENNY\" JOHNSON</td>\n",
       "      <td>250</td>\n",
       "    </tr>\n",
       "    <tr>\n",
       "      <th>24</th>\n",
       "      <td>2012-11-06</td>\n",
       "      <td>1A10</td>\n",
       "      <td>WRITE-IN</td>\n",
       "      <td>6</td>\n",
       "    </tr>\n",
       "    <tr>\n",
       "      <th>25</th>\n",
       "      <td>2012-11-06</td>\n",
       "      <td>1A11</td>\n",
       "      <td>DOTTI LOVE WADE</td>\n",
       "      <td>429</td>\n",
       "    </tr>\n",
       "    <tr>\n",
       "      <th>26</th>\n",
       "      <td>2012-11-06</td>\n",
       "      <td>1A11</td>\n",
       "      <td>MIRIAM Z. SAVAD</td>\n",
       "      <td>205</td>\n",
       "    </tr>\n",
       "    <tr>\n",
       "      <th>27</th>\n",
       "      <td>2012-11-06</td>\n",
       "      <td>1A11</td>\n",
       "      <td>WRITE-IN</td>\n",
       "      <td>16</td>\n",
       "    </tr>\n",
       "    <tr>\n",
       "      <th>28</th>\n",
       "      <td>2012-11-06</td>\n",
       "      <td>1A12</td>\n",
       "      <td>ROSALIND M. GILLIAM</td>\n",
       "      <td>322</td>\n",
       "    </tr>\n",
       "    <tr>\n",
       "      <th>29</th>\n",
       "      <td>2012-11-06</td>\n",
       "      <td>1A12</td>\n",
       "      <td>WRITE-IN</td>\n",
       "      <td>10</td>\n",
       "    </tr>\n",
       "    <tr>\n",
       "      <th>...</th>\n",
       "      <td>...</td>\n",
       "      <td>...</td>\n",
       "      <td>...</td>\n",
       "      <td>...</td>\n",
       "    </tr>\n",
       "    <tr>\n",
       "      <th>4543</th>\n",
       "      <td>2018-11-06</td>\n",
       "      <td>8E01</td>\n",
       "      <td>Rufaro Jenkins</td>\n",
       "      <td>89</td>\n",
       "    </tr>\n",
       "    <tr>\n",
       "      <th>4544</th>\n",
       "      <td>2018-11-06</td>\n",
       "      <td>8E01</td>\n",
       "      <td>UNDER VOTES</td>\n",
       "      <td>29</td>\n",
       "    </tr>\n",
       "    <tr>\n",
       "      <th>4545</th>\n",
       "      <td>2018-11-06</td>\n",
       "      <td>8E01</td>\n",
       "      <td>WRITE-IN</td>\n",
       "      <td>34</td>\n",
       "    </tr>\n",
       "    <tr>\n",
       "      <th>4546</th>\n",
       "      <td>2018-11-06</td>\n",
       "      <td>8E02</td>\n",
       "      <td>Amanda Beale</td>\n",
       "      <td>128</td>\n",
       "    </tr>\n",
       "    <tr>\n",
       "      <th>4547</th>\n",
       "      <td>2018-11-06</td>\n",
       "      <td>8E02</td>\n",
       "      <td>Anthony Muhammad</td>\n",
       "      <td>155</td>\n",
       "    </tr>\n",
       "    <tr>\n",
       "      <th>4548</th>\n",
       "      <td>2018-11-06</td>\n",
       "      <td>8E02</td>\n",
       "      <td>Cheryl Moore</td>\n",
       "      <td>229</td>\n",
       "    </tr>\n",
       "    <tr>\n",
       "      <th>4549</th>\n",
       "      <td>2018-11-06</td>\n",
       "      <td>8E02</td>\n",
       "      <td>OVER VOTES</td>\n",
       "      <td>1</td>\n",
       "    </tr>\n",
       "    <tr>\n",
       "      <th>4550</th>\n",
       "      <td>2018-11-06</td>\n",
       "      <td>8E02</td>\n",
       "      <td>UNDER VOTES</td>\n",
       "      <td>31</td>\n",
       "    </tr>\n",
       "    <tr>\n",
       "      <th>4551</th>\n",
       "      <td>2018-11-06</td>\n",
       "      <td>8E02</td>\n",
       "      <td>WRITE-IN</td>\n",
       "      <td>11</td>\n",
       "    </tr>\n",
       "    <tr>\n",
       "      <th>4552</th>\n",
       "      <td>2018-11-06</td>\n",
       "      <td>8E03</td>\n",
       "      <td>Monica Watts</td>\n",
       "      <td>281</td>\n",
       "    </tr>\n",
       "    <tr>\n",
       "      <th>4553</th>\n",
       "      <td>2018-11-06</td>\n",
       "      <td>8E03</td>\n",
       "      <td>OVER VOTES</td>\n",
       "      <td>0</td>\n",
       "    </tr>\n",
       "    <tr>\n",
       "      <th>4554</th>\n",
       "      <td>2018-11-06</td>\n",
       "      <td>8E03</td>\n",
       "      <td>UNDER VOTES</td>\n",
       "      <td>57</td>\n",
       "    </tr>\n",
       "    <tr>\n",
       "      <th>4555</th>\n",
       "      <td>2018-11-06</td>\n",
       "      <td>8E03</td>\n",
       "      <td>WRITE-IN</td>\n",
       "      <td>26</td>\n",
       "    </tr>\n",
       "    <tr>\n",
       "      <th>4556</th>\n",
       "      <td>2018-11-06</td>\n",
       "      <td>8E04</td>\n",
       "      <td>Andre Towner</td>\n",
       "      <td>283</td>\n",
       "    </tr>\n",
       "    <tr>\n",
       "      <th>4557</th>\n",
       "      <td>2018-11-06</td>\n",
       "      <td>8E04</td>\n",
       "      <td>Kendall Simmons</td>\n",
       "      <td>326</td>\n",
       "    </tr>\n",
       "    <tr>\n",
       "      <th>4558</th>\n",
       "      <td>2018-11-06</td>\n",
       "      <td>8E04</td>\n",
       "      <td>OVER VOTES</td>\n",
       "      <td>0</td>\n",
       "    </tr>\n",
       "    <tr>\n",
       "      <th>4559</th>\n",
       "      <td>2018-11-06</td>\n",
       "      <td>8E04</td>\n",
       "      <td>UNDER VOTES</td>\n",
       "      <td>44</td>\n",
       "    </tr>\n",
       "    <tr>\n",
       "      <th>4560</th>\n",
       "      <td>2018-11-06</td>\n",
       "      <td>8E04</td>\n",
       "      <td>WRITE-IN</td>\n",
       "      <td>26</td>\n",
       "    </tr>\n",
       "    <tr>\n",
       "      <th>4561</th>\n",
       "      <td>2018-11-06</td>\n",
       "      <td>8E05</td>\n",
       "      <td>Christopher L. Hawthorne</td>\n",
       "      <td>525</td>\n",
       "    </tr>\n",
       "    <tr>\n",
       "      <th>4562</th>\n",
       "      <td>2018-11-06</td>\n",
       "      <td>8E05</td>\n",
       "      <td>OVER VOTES</td>\n",
       "      <td>0</td>\n",
       "    </tr>\n",
       "    <tr>\n",
       "      <th>4563</th>\n",
       "      <td>2018-11-06</td>\n",
       "      <td>8E05</td>\n",
       "      <td>UNDER VOTES</td>\n",
       "      <td>126</td>\n",
       "    </tr>\n",
       "    <tr>\n",
       "      <th>4564</th>\n",
       "      <td>2018-11-06</td>\n",
       "      <td>8E05</td>\n",
       "      <td>WRITE-IN</td>\n",
       "      <td>41</td>\n",
       "    </tr>\n",
       "    <tr>\n",
       "      <th>4565</th>\n",
       "      <td>2018-11-06</td>\n",
       "      <td>8E06</td>\n",
       "      <td>Karlene (K.) Armstead</td>\n",
       "      <td>378</td>\n",
       "    </tr>\n",
       "    <tr>\n",
       "      <th>4566</th>\n",
       "      <td>2018-11-06</td>\n",
       "      <td>8E06</td>\n",
       "      <td>OVER VOTES</td>\n",
       "      <td>0</td>\n",
       "    </tr>\n",
       "    <tr>\n",
       "      <th>4567</th>\n",
       "      <td>2018-11-06</td>\n",
       "      <td>8E06</td>\n",
       "      <td>UNDER VOTES</td>\n",
       "      <td>99</td>\n",
       "    </tr>\n",
       "    <tr>\n",
       "      <th>4568</th>\n",
       "      <td>2018-11-06</td>\n",
       "      <td>8E06</td>\n",
       "      <td>WRITE-IN</td>\n",
       "      <td>17</td>\n",
       "    </tr>\n",
       "    <tr>\n",
       "      <th>4569</th>\n",
       "      <td>2018-11-06</td>\n",
       "      <td>8E07</td>\n",
       "      <td>OVER VOTES</td>\n",
       "      <td>0</td>\n",
       "    </tr>\n",
       "    <tr>\n",
       "      <th>4570</th>\n",
       "      <td>2018-11-06</td>\n",
       "      <td>8E07</td>\n",
       "      <td>Stephen A Slaughter</td>\n",
       "      <td>455</td>\n",
       "    </tr>\n",
       "    <tr>\n",
       "      <th>4571</th>\n",
       "      <td>2018-11-06</td>\n",
       "      <td>8E07</td>\n",
       "      <td>UNDER VOTES</td>\n",
       "      <td>102</td>\n",
       "    </tr>\n",
       "    <tr>\n",
       "      <th>4572</th>\n",
       "      <td>2018-11-06</td>\n",
       "      <td>8E07</td>\n",
       "      <td>WRITE-IN</td>\n",
       "      <td>40</td>\n",
       "    </tr>\n",
       "  </tbody>\n",
       "</table>\n",
       "<p>4573 rows × 4 columns</p>\n",
       "</div>"
      ],
      "text/plain": [
       "     ELECTION_DATE   SMD                 CANDIDATE  VOTES\n",
       "0       2012-11-06  1A01             LISA KRALOVIC    374\n",
       "1       2012-11-06  1A01                  WRITE-IN     24\n",
       "2       2012-11-06  1A02           ALEXANDER GALLO    295\n",
       "3       2012-11-06  1A02    VICKEY A. WRIGHT-SMITH    432\n",
       "4       2012-11-06  1A02                  WRITE-IN     11\n",
       "5       2012-11-06  1A03               STEVE SWANK    406\n",
       "6       2012-11-06  1A03                  WRITE-IN     36\n",
       "7       2012-11-06  1A04            LAINA AQUILINE    430\n",
       "8       2012-11-06  1A04         SENTAMU KIREMERWA    120\n",
       "9       2012-11-06  1A04                  WRITE-IN     18\n",
       "10      2012-11-06  1A05              KEVIN HOLMES    440\n",
       "11      2012-11-06  1A05                  WRITE-IN     16\n",
       "12      2012-11-06  1A06       KEVIN E. CLINESMITH     87\n",
       "13      2012-11-06  1A06          PATRICK W. FLYNN    411\n",
       "14      2012-11-06  1A06  WILLIAM \"BILL\" BROWN JR.    218\n",
       "15      2012-11-06  1A06                  WRITE-IN      9\n",
       "16      2012-11-06  1A07           THOMAS BOISVERT    633\n",
       "17      2012-11-06  1A07                  WRITE-IN     44\n",
       "18      2012-11-06  1A08             KENT C. BOESE    852\n",
       "19      2012-11-06  1A08                  WRITE-IN     14\n",
       "20      2012-11-06  1A09              BOBBY HOLMES    495\n",
       "21      2012-11-06  1A09                  WRITE-IN     37\n",
       "22      2012-11-06  1A10            ANTHONY CIMINO    554\n",
       "23      2012-11-06  1A10   LENWOOD \"LENNY\" JOHNSON    250\n",
       "24      2012-11-06  1A10                  WRITE-IN      6\n",
       "25      2012-11-06  1A11           DOTTI LOVE WADE    429\n",
       "26      2012-11-06  1A11           MIRIAM Z. SAVAD    205\n",
       "27      2012-11-06  1A11                  WRITE-IN     16\n",
       "28      2012-11-06  1A12       ROSALIND M. GILLIAM    322\n",
       "29      2012-11-06  1A12                  WRITE-IN     10\n",
       "...            ...   ...                       ...    ...\n",
       "4543    2018-11-06  8E01            Rufaro Jenkins     89\n",
       "4544    2018-11-06  8E01               UNDER VOTES     29\n",
       "4545    2018-11-06  8E01                  WRITE-IN     34\n",
       "4546    2018-11-06  8E02              Amanda Beale    128\n",
       "4547    2018-11-06  8E02          Anthony Muhammad    155\n",
       "4548    2018-11-06  8E02              Cheryl Moore    229\n",
       "4549    2018-11-06  8E02                OVER VOTES      1\n",
       "4550    2018-11-06  8E02               UNDER VOTES     31\n",
       "4551    2018-11-06  8E02                  WRITE-IN     11\n",
       "4552    2018-11-06  8E03              Monica Watts    281\n",
       "4553    2018-11-06  8E03                OVER VOTES      0\n",
       "4554    2018-11-06  8E03               UNDER VOTES     57\n",
       "4555    2018-11-06  8E03                  WRITE-IN     26\n",
       "4556    2018-11-06  8E04              Andre Towner    283\n",
       "4557    2018-11-06  8E04           Kendall Simmons    326\n",
       "4558    2018-11-06  8E04                OVER VOTES      0\n",
       "4559    2018-11-06  8E04               UNDER VOTES     44\n",
       "4560    2018-11-06  8E04                  WRITE-IN     26\n",
       "4561    2018-11-06  8E05  Christopher L. Hawthorne    525\n",
       "4562    2018-11-06  8E05                OVER VOTES      0\n",
       "4563    2018-11-06  8E05               UNDER VOTES    126\n",
       "4564    2018-11-06  8E05                  WRITE-IN     41\n",
       "4565    2018-11-06  8E06     Karlene (K.) Armstead    378\n",
       "4566    2018-11-06  8E06                OVER VOTES      0\n",
       "4567    2018-11-06  8E06               UNDER VOTES     99\n",
       "4568    2018-11-06  8E06                  WRITE-IN     17\n",
       "4569    2018-11-06  8E07                OVER VOTES      0\n",
       "4570    2018-11-06  8E07       Stephen A Slaughter    455\n",
       "4571    2018-11-06  8E07               UNDER VOTES    102\n",
       "4572    2018-11-06  8E07                  WRITE-IN     40\n",
       "\n",
       "[4573 rows x 4 columns]"
      ]
     },
     "execution_count": 29,
     "metadata": {},
     "output_type": "execute_result"
    }
   ],
   "source": [
    "df"
   ]
  },
  {
   "cell_type": "code",
   "execution_count": 30,
   "metadata": {},
   "outputs": [],
   "source": [
    "df['WARD'] = df.SMD.str[:1]"
   ]
  },
  {
   "cell_type": "code",
   "execution_count": 31,
   "metadata": {},
   "outputs": [
    {
     "data": {
      "text/html": [
       "<div>\n",
       "<style scoped>\n",
       "    .dataframe tbody tr th:only-of-type {\n",
       "        vertical-align: middle;\n",
       "    }\n",
       "\n",
       "    .dataframe tbody tr th {\n",
       "        vertical-align: top;\n",
       "    }\n",
       "\n",
       "    .dataframe thead th {\n",
       "        text-align: right;\n",
       "    }\n",
       "</style>\n",
       "<table border=\"1\" class=\"dataframe\">\n",
       "  <thead>\n",
       "    <tr style=\"text-align: right;\">\n",
       "      <th></th>\n",
       "      <th>ELECTION_DATE</th>\n",
       "      <th>SMD</th>\n",
       "      <th>CANDIDATE</th>\n",
       "      <th>VOTES</th>\n",
       "      <th>WARD</th>\n",
       "    </tr>\n",
       "  </thead>\n",
       "  <tbody>\n",
       "    <tr>\n",
       "      <th>4568</th>\n",
       "      <td>2018-11-06</td>\n",
       "      <td>8E06</td>\n",
       "      <td>WRITE-IN</td>\n",
       "      <td>17</td>\n",
       "      <td>8</td>\n",
       "    </tr>\n",
       "    <tr>\n",
       "      <th>4569</th>\n",
       "      <td>2018-11-06</td>\n",
       "      <td>8E07</td>\n",
       "      <td>OVER VOTES</td>\n",
       "      <td>0</td>\n",
       "      <td>8</td>\n",
       "    </tr>\n",
       "    <tr>\n",
       "      <th>4570</th>\n",
       "      <td>2018-11-06</td>\n",
       "      <td>8E07</td>\n",
       "      <td>Stephen A Slaughter</td>\n",
       "      <td>455</td>\n",
       "      <td>8</td>\n",
       "    </tr>\n",
       "    <tr>\n",
       "      <th>4571</th>\n",
       "      <td>2018-11-06</td>\n",
       "      <td>8E07</td>\n",
       "      <td>UNDER VOTES</td>\n",
       "      <td>102</td>\n",
       "      <td>8</td>\n",
       "    </tr>\n",
       "    <tr>\n",
       "      <th>4572</th>\n",
       "      <td>2018-11-06</td>\n",
       "      <td>8E07</td>\n",
       "      <td>WRITE-IN</td>\n",
       "      <td>40</td>\n",
       "      <td>8</td>\n",
       "    </tr>\n",
       "  </tbody>\n",
       "</table>\n",
       "</div>"
      ],
      "text/plain": [
       "     ELECTION_DATE   SMD            CANDIDATE  VOTES WARD\n",
       "4568    2018-11-06  8E06             WRITE-IN     17    8\n",
       "4569    2018-11-06  8E07           OVER VOTES      0    8\n",
       "4570    2018-11-06  8E07  Stephen A Slaughter    455    8\n",
       "4571    2018-11-06  8E07          UNDER VOTES    102    8\n",
       "4572    2018-11-06  8E07             WRITE-IN     40    8"
      ]
     },
     "execution_count": 31,
     "metadata": {},
     "output_type": "execute_result"
    }
   ],
   "source": [
    "df.tail()"
   ]
  },
  {
   "cell_type": "code",
   "execution_count": 32,
   "metadata": {},
   "outputs": [],
   "source": [
    "df = df.set_index('ELECTION_DATE')"
   ]
  },
  {
   "cell_type": "code",
   "execution_count": 33,
   "metadata": {},
   "outputs": [],
   "source": [
    "# save progress\n",
    "df.to_csv('anc_electoral_history_2012_2018.csv')"
   ]
  },
  {
   "cell_type": "code",
   "execution_count": null,
   "metadata": {},
   "outputs": [],
   "source": []
  },
  {
   "cell_type": "code",
   "execution_count": null,
   "metadata": {},
   "outputs": [],
   "source": []
  },
  {
   "cell_type": "code",
   "execution_count": null,
   "metadata": {},
   "outputs": [],
   "source": []
  },
  {
   "cell_type": "code",
   "execution_count": null,
   "metadata": {},
   "outputs": [],
   "source": []
  },
  {
   "cell_type": "code",
   "execution_count": null,
   "metadata": {},
   "outputs": [],
   "source": []
  },
  {
   "cell_type": "code",
   "execution_count": null,
   "metadata": {},
   "outputs": [],
   "source": []
  }
 ],
 "metadata": {
  "kernelspec": {
   "display_name": "Python 3",
   "language": "python",
   "name": "python3"
  },
  "language_info": {
   "codemirror_mode": {
    "name": "ipython",
    "version": 3
   },
   "file_extension": ".py",
   "mimetype": "text/x-python",
   "name": "python",
   "nbconvert_exporter": "python",
   "pygments_lexer": "ipython3",
   "version": "3.7.3"
  }
 },
 "nbformat": 4,
 "nbformat_minor": 2
}
